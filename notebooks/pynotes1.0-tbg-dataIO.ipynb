{
 "cells": [
  {
   "cell_type": "markdown",
   "metadata": {},
   "source": [
    "# Practical notes on Python usage and syntax\n",
    "\n",
    "## 1.0 - Data input/output"
   ]
  },
  {
   "cell_type": "markdown",
   "metadata": {},
   "source": [
    "np.genfromtxt(). This function is flexible but slow. I've found it quite useful when combined with a 'cleanlines' step."
   ]
  },
  {
   "cell_type": "code",
   "execution_count": null,
   "metadata": {},
   "outputs": [],
   "source": [
    "with open(fn, 'rb') as f:\n",
    "        clean_lines = ( line.replace(b'-',b',').replace(b':',b',').replace(b' ',b',') for line in f )\n",
    "        data = np.genfromtxt(clean_lines,usecols=(0,1,2,3,4,5,6,7,8,9,),delimiter=',', skip_header=1)"
   ]
  },
  {
   "cell_type": "markdown",
   "metadata": {},
   "source": [
    "where 'rb' indicates 'read' with a 'binary' specifier. I think this maintains any special characters (e.g. carriage return)."
   ]
  }
 ],
 "metadata": {
  "kernelspec": {
   "display_name": "Python [default]",
   "language": "python",
   "name": "python3"
  },
  "language_info": {
   "codemirror_mode": {
    "name": "ipython",
    "version": 3
   },
   "file_extension": ".py",
   "mimetype": "text/x-python",
   "name": "python",
   "nbconvert_exporter": "python",
   "pygments_lexer": "ipython3",
   "version": "3.5.5"
  }
 },
 "nbformat": 4,
 "nbformat_minor": 2
}
