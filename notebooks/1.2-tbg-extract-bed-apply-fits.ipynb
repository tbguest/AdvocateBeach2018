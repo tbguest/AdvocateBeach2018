{
 "cells": [
  {
   "cell_type": "markdown",
   "metadata": {},
   "source": [
    "# Despiking"
   ]
  },
  {
   "cell_type": "code",
   "execution_count": 658,
   "metadata": {},
   "outputs": [],
   "source": [
    "import numpy as np\n",
    "from scipy import signal\n",
    "import pylab as pl\n",
    "import matplotlib.pyplot as plt\n",
    "\n",
    "# toggle between interactive and inline plotting\n",
    "# %pylab qt\n",
    "# %pylab inline"
   ]
  },
  {
   "cell_type": "code",
   "execution_count": 659,
   "metadata": {},
   "outputs": [],
   "source": [
    "# Oct 20 - energetic morning\n",
    "# fn1 = \"sonar74_2018-10-20-13_08.dat\"\n",
    "# dn = \"C:\\\\Projects\\\\AdvocateBeach2018\\\\data\\\\raw\\\\range_data\\\\20_10_2018\\\\AM\\\\\"\n",
    "\n",
    "# Irun = range(3500,16000)\n",
    "\n",
    "# with open(dn+fn1, 'rb') as f:\n",
    "#     clean_lines = ( line.replace(b'R',b'').replace(b'Oct',b'10').replace(b':',b' ') for line in f )\n",
    "#     range1 = np.genfromtxt(clean_lines,usecols=(5,),delimiter=' ')\n",
    "\n",
    "# range1 = range1[Irun]  \n",
    "\n",
    "# 21 - cusp day\n",
    "fn1 = \"sonar74_2018-10-21-13_01.dat\"\n",
    "dn = \"C:\\\\Projects\\\\AdvocateBeach2018\\\\data\\\\raw\\\\range_data\\\\21_10_2018\\\\AM\\\\\"\n",
    "\n",
    "# 23 - cusp day\n",
    "fn1 = \"sonar71_2018-10-23-13_37.dat\"\n",
    "dn = \"C:\\\\Projects\\\\AdvocateBeach2018\\\\data\\\\raw\\\\range_data\\\\23_10_2018\\\\AM\\\\\"\n",
    "\n",
    "# unix tstapmp of main run start: 1540303640\n",
    "# end: 1540308900\n",
    "\n",
    "# fn1 = \"sonar73_2018-10-24-14_14.dat\"\n",
    "# dn = \"C:\\\\Projects\\\\AdvocateBeach2018\\\\data\\\\raw\\\\range_data\\\\24_10_2018\\\\PM\\\\\"\n",
    "\n",
    "\n",
    "with open(dn+fn1, 'rb') as f:\n",
    "    clean_lines = ( line.replace(b'R',b'').replace(b'-',b' ') for line in f )\n",
    "    rng = np.genfromtxt(clean_lines,usecols=(0,1,2,3,4,5,6,),delimiter=' ')   \n",
    "    \n",
    "range1 = rng[:,6]\n",
    "date1 = rng[:,5] + rng[:,4]*60 + rng[:,3]*60*60 # in seconds [/day]"
   ]
  },
  {
   "cell_type": "code",
   "execution_count": 660,
   "metadata": {},
   "outputs": [],
   "source": [
    "plt.figure\n",
    "plt.plot(range1)\n",
    "plt.xlabel('index')\n",
    "plt.ylabel('Range [mm]')\n",
    "# plt.ylim([500, 1500])\n",
    "# plt.xlim([9000, 10000])\n",
    "plt.show()"
   ]
  },
  {
   "cell_type": "code",
   "execution_count": 661,
   "metadata": {},
   "outputs": [],
   "source": [
    "# remove large first differences\n",
    "# Ijnk = np.where(abs(np.diff(range2)) > 250) or np.where(tmp2 < range2)\n",
    "Ijnk = np.where(abs(np.diff(range1)) > 500)\n",
    "tmp = np.copy(range1) \n",
    "tmp[Ijnk] = float('nan')  \n",
    "\n",
    "for m in range(0,len(tmp)):\n",
    "    if not np.isnan(m):\n",
    "        if tmp[m] < 502.:\n",
    "            tmp[m] = float('nan') \n",
    "        "
   ]
  },
  {
   "cell_type": "code",
   "execution_count": 662,
   "metadata": {},
   "outputs": [],
   "source": [
    "plt.figure\n",
    "plt.plot(tmp)\n",
    "plt.xlabel('index')\n",
    "plt.ylabel('Range [mm]')\n",
    "# plt.ylim([500, 1500])\n",
    "# plt.xlim([9000, 10000])\n",
    "plt.show()"
   ]
  },
  {
   "cell_type": "code",
   "execution_count": 663,
   "metadata": {},
   "outputs": [],
   "source": [
    "def smooth(x,window_len=11,window='hanning'):\n",
    "    \"\"\"smooth the data using a window with requested size.\n",
    "    \n",
    "    This method is based on the convolution of a scaled window with the signal.\n",
    "    The signal is prepared by introducing reflected copies of the signal \n",
    "    (with the window size) in both ends so that transient parts are minimized\n",
    "    in the begining and end part of the output signal.\n",
    "    \n",
    "    input:\n",
    "        x: the input signal \n",
    "        window_len: the dimension of the smoothing window; should be an odd integer\n",
    "        window: the type of window from 'flat', 'hanning', 'hamming', 'bartlett', 'blackman'\n",
    "            flat window will produce a moving average smoothing.\n",
    "\n",
    "    output:\n",
    "        the smoothed signal\n",
    "        \n",
    "    example:\n",
    "\n",
    "    t=linspace(-2,2,0.1)\n",
    "    x=sin(t)+randn(len(t))*0.1\n",
    "    y=smooth(x)\n",
    "    \n",
    "    see also: \n",
    "    \n",
    "    numpy.hanning, numpy.hamming, numpy.bartlett, numpy.blackman, numpy.convolve\n",
    "    scipy.signal.lfilter\n",
    " \n",
    "    TODO: the window parameter could be the window itself if an array instead of a string\n",
    "    NOTE: length(output) != length(input), to correct this: return y[(window_len/2-1):-(window_len/2)] instead of just y.\n",
    "    \"\"\"\n",
    "    \n",
    "    import numpy \n",
    "\n",
    "    if x.ndim != 1:\n",
    "        raise ValueError(\"smooth only accepts 1 dimension arrays.\")\n",
    "\n",
    "    if x.size < window_len:\n",
    "        raise ValueError(\"Input vector needs to be bigger than window size.\")\n",
    "\n",
    "\n",
    "    if window_len<3:\n",
    "        return x\n",
    "\n",
    "\n",
    "    if not window in ['flat', 'hanning', 'hamming', 'bartlett', 'blackman']:\n",
    "        raise ValueError(\"Window is on of 'flat', 'hanning', 'hamming', 'bartlett', 'blackman'\")\n",
    "\n",
    "\n",
    "    s=numpy.r_[x[window_len-1:0:-1],x,x[-2:-window_len-1:-1]]\n",
    "    #print(len(s))\n",
    "    if window == 'flat': #moving average\n",
    "        w=numpy.ones(window_len,'d')\n",
    "    else:\n",
    "        w=eval('numpy.'+window+'(window_len)')\n",
    "\n",
    "    y=numpy.convolve(w/w.sum(),s,mode='valid')\n",
    "    return y\n"
   ]
  },
  {
   "cell_type": "code",
   "execution_count": 664,
   "metadata": {},
   "outputs": [],
   "source": [
    "range_smth = smooth(tmp,window_len=7,window='flat') #x,window_len=11,window='hanning'"
   ]
  },
  {
   "cell_type": "code",
   "execution_count": 665,
   "metadata": {},
   "outputs": [
    {
     "name": "stdout",
     "output_type": "stream",
     "text": [
      "54776\n",
      "54782\n"
     ]
    }
   ],
   "source": [
    "print(len(tmp))\n",
    "print(len(range_smth))"
   ]
  },
  {
   "cell_type": "code",
   "execution_count": 666,
   "metadata": {},
   "outputs": [
    {
     "name": "stdout",
     "output_type": "stream",
     "text": [
      "Populating the interactive namespace from numpy and matplotlib\n"
     ]
    },
    {
     "name": "stderr",
     "output_type": "stream",
     "text": [
      "C:\\Users\\Owner\\Anaconda3\\lib\\site-packages\\IPython\\core\\magics\\pylab.py:160: UserWarning: pylab import has clobbered these variables: ['f']\n",
      "`%matplotlib` prevents importing * from pylab and numpy\n",
      "  \"\\n`%matplotlib` prevents importing * from pylab and numpy\"\n"
     ]
    },
    {
     "data": {
      "image/png": "[encoded data removed]",
      "text/plain": [
       "<Figure size 432x288 with 1 Axes>"
      ]
     },
     "metadata": {},
     "output_type": "display_data"
    }
   ],
   "source": [
    "%pylab inline\n",
    "\n",
    "plt.figure\n",
    "plt.plot(tmp)\n",
    "plt.plot(range_smth)\n",
    "plt.xlabel('index')\n",
    "plt.ylabel('Range [mm]')\n",
    "# plt.ylim([900, 1050])\n",
    "# plt.xlim([5000, 7000])\n",
    "plt.show()"
   ]
  },
  {
   "cell_type": "code",
   "execution_count": 667,
   "metadata": {},
   "outputs": [],
   "source": [
    "# remove returns further away than bed\n",
    "range_smth[:len(tmp)]\n",
    "tmp_range_smth = np.copy(range_smth[:len(tmp)])\n",
    "\n",
    "for n in range(0,len(tmp)):\n",
    "    \n",
    "    if not np.isnan(tmp[n]):\n",
    "        \n",
    "        if tmp[n] > tmp_range_smth[n]:\n",
    "            \n",
    "            tmp[n] = tmp_range_smth[n]\n",
    "        \n",
    "        \n",
    "# Ijnk = np.where(tmp > range_smth[:len(tmp)])\n",
    "\n",
    "# tmp2 = np.copy(tmp) \n",
    "\n",
    "# for ind in Ijnk:\n",
    "#     tmp2[ind] = range_smth[ind]"
   ]
  },
  {
   "cell_type": "code",
   "execution_count": 668,
   "metadata": {},
   "outputs": [
    {
     "name": "stdout",
     "output_type": "stream",
     "text": [
      "Populating the interactive namespace from numpy and matplotlib\n"
     ]
    }
   ],
   "source": [
    "%pylab qt\n",
    "\n",
    "plt.figure\n",
    "plt.plot(tmp)\n",
    "plt.plot(tmp_range_smth)\n",
    "plt.xlabel('index')\n",
    "plt.ylabel('Range [mm]')\n",
    "# plt.ylim([900, 1050])\n",
    "# plt.xlim([5000, 7000])\n",
    "plt.show()"
   ]
  },
  {
   "cell_type": "code",
   "execution_count": 669,
   "metadata": {},
   "outputs": [],
   "source": [
    "import pylab"
   ]
  },
  {
   "cell_type": "code",
   "execution_count": 670,
   "metadata": {},
   "outputs": [],
   "source": [
    "# %pylab qt"
   ]
  },
  {
   "cell_type": "code",
   "execution_count": 671,
   "metadata": {},
   "outputs": [],
   "source": [
    "plt.figure\n",
    "plt.plot(tmp)\n",
    "plt.plot(range_smth)\n",
    "plt.xlabel('index')\n",
    "plt.ylabel('Range [mm]')\n",
    "plt.ylim([900, 1050])\n",
    "# plt.xlim([5000, 7000])\n",
    "plt.show()"
   ]
  },
  {
   "cell_type": "code",
   "execution_count": 672,
   "metadata": {},
   "outputs": [],
   "source": [
    "# y = signal.filtfilt(b, a, x, padlen=150)\n",
    "\n",
    "# try focusing on bed data only -- call it the the bed if n [6-12?] preceding points are different by less than x mm [6?]\n",
    "b_range = 6 # preceding range for use in determing if bed ...\n",
    "d_thresh = 6\n",
    "\n",
    "bed_vec = [float('nan'), float('nan'), float('nan'), float('nan'), float('nan'), float('nan')]\n",
    "\n",
    "for ii in range(b_range, len(range1)):\n",
    "    for jj in range(1, b_range):\n",
    "        if abs(range1[ii] - range1[ii-jj]) > d_thresh:\n",
    "            bval = float('nan')\n",
    "            break\n",
    "        bval = np.mean(range1[ii-b_range+1:ii])\n",
    "    bed_vec.append(bval)    \n",
    "            "
   ]
  },
  {
   "cell_type": "code",
   "execution_count": 675,
   "metadata": {},
   "outputs": [
    {
     "name": "stdout",
     "output_type": "stream",
     "text": [
      "Populating the interactive namespace from numpy and matplotlib\n"
     ]
    }
   ],
   "source": [
    "%pylab qt\n",
    "\n",
    "plt.figure\n",
    "plt.plot(date1,range1)\n",
    "plt.plot(date1,bed_vec)\n",
    "plt.xlabel('time [s]')\n",
    "plt.ylabel('Range [mm]')\n",
    "# plt.ylim([550, 1150])\n",
    "# plt.xlim([5000, 7000])\n",
    "plt.show()"
   ]
  },
  {
   "cell_type": "code",
   "execution_count": 674,
   "metadata": {},
   "outputs": [
    {
     "data": {
      "text/plain": [
       "54776"
      ]
     },
     "execution_count": 674,
     "metadata": {},
     "output_type": "execute_result"
    }
   ],
   "source": [
    "len(bed_vec)\n",
    "len(range1)"
   ]
  },
  {
   "cell_type": "code",
   "execution_count": null,
   "metadata": {},
   "outputs": [],
   "source": []
  }
 ],
 "metadata": {
  "kernelspec": {
   "display_name": "Python [default]",
   "language": "python",
   "name": "python3"
  },
  "language_info": {
   "codemirror_mode": {
    "name": "ipython",
    "version": 3
   },
   "file_extension": ".py",
   "mimetype": "text/x-python",
   "name": "python",
   "nbconvert_exporter": "python",
   "pygments_lexer": "ipython3",
   "version": "3.5.5"
  }
 },
 "nbformat": 4,
 "nbformat_minor": 2
}
